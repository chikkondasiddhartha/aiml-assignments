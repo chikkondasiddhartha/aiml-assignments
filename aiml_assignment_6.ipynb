{
  "nbformat": 4,
  "nbformat_minor": 0,
  "metadata": {
    "colab": {
      "provenance": [],
      "toc_visible": true
    },
    "kernelspec": {
      "name": "python3",
      "display_name": "Python 3"
    },
    "language_info": {
      "name": "python"
    }
  },
  "cells": [
    {
      "cell_type": "code",
      "source": [
        "from google.colab import drive\n",
        "drive.mount('/content/drive')"
      ],
      "metadata": {
        "colab": {
          "base_uri": "https://localhost:8080/"
        },
        "id": "Ka5530lsJUdw",
        "outputId": "78ca640e-0db3-4ea0-fb64-44e0dd8a5705"
      },
      "execution_count": 1,
      "outputs": [
        {
          "output_type": "stream",
          "name": "stdout",
          "text": [
            "Mounted at /content/drive\n"
          ]
        }
      ]
    },
    {
      "cell_type": "code",
      "source": [
        "#Question 1:\n",
        "\n",
        "import pandas as pd"
      ],
      "metadata": {
        "id": "A9FSmrcIPiv2"
      },
      "execution_count": 14,
      "outputs": []
    },
    {
      "cell_type": "code",
      "source": [
        "#a) Read the data with pandas and find features and target variables\n",
        "\n",
        "df=pd.read_csv('/content/train.csv')"
      ],
      "metadata": {
        "id": "ySEqdI7nPiyV"
      },
      "execution_count": 15,
      "outputs": []
    },
    {
      "cell_type": "code",
      "source": [
        "print(df)"
      ],
      "metadata": {
        "colab": {
          "base_uri": "https://localhost:8080/"
        },
        "id": "jvAVpkYhPi1N",
        "outputId": "f5fd217e-9a79-45ae-f230-fbdf078241d7"
      },
      "execution_count": 17,
      "outputs": [
        {
          "output_type": "stream",
          "name": "stdout",
          "text": [
            "      battery_power  blue  clock_speed  dual_sim  fc  four_g  int_memory  \\\n",
            "0               842     0          2.2         0   1       0           7   \n",
            "1              1021     1          0.5         1   0       1          53   \n",
            "2               563     1          0.5         1   2       1          41   \n",
            "3               615     1          2.5         0   0       0          10   \n",
            "4              1821     1          1.2         0  13       1          44   \n",
            "...             ...   ...          ...       ...  ..     ...         ...   \n",
            "1995            794     1          0.5         1   0       1           2   \n",
            "1996           1965     1          2.6         1   0       0          39   \n",
            "1997           1911     0          0.9         1   1       1          36   \n",
            "1998           1512     0          0.9         0   4       1          46   \n",
            "1999            510     1          2.0         1   5       1          45   \n",
            "\n",
            "      m_dep  mobile_wt  n_cores  ...  px_height  px_width   ram  sc_h  sc_w  \\\n",
            "0       0.6        188        2  ...         20       756  2549     9     7   \n",
            "1       0.7        136        3  ...        905      1988  2631    17     3   \n",
            "2       0.9        145        5  ...       1263      1716  2603    11     2   \n",
            "3       0.8        131        6  ...       1216      1786  2769    16     8   \n",
            "4       0.6        141        2  ...       1208      1212  1411     8     2   \n",
            "...     ...        ...      ...  ...        ...       ...   ...   ...   ...   \n",
            "1995    0.8        106        6  ...       1222      1890   668    13     4   \n",
            "1996    0.2        187        4  ...        915      1965  2032    11    10   \n",
            "1997    0.7        108        8  ...        868      1632  3057     9     1   \n",
            "1998    0.1        145        5  ...        336       670   869    18    10   \n",
            "1999    0.9        168        6  ...        483       754  3919    19     4   \n",
            "\n",
            "      talk_time  three_g  touch_screen  wifi  price_range  \n",
            "0            19        0             0     1            1  \n",
            "1             7        1             1     0            2  \n",
            "2             9        1             1     0            2  \n",
            "3            11        1             0     0            2  \n",
            "4            15        1             1     0            1  \n",
            "...         ...      ...           ...   ...          ...  \n",
            "1995         19        1             1     0            0  \n",
            "1996         16        1             1     1            2  \n",
            "1997          5        1             1     0            3  \n",
            "1998         19        1             1     1            0  \n",
            "1999          2        1             1     1            3  \n",
            "\n",
            "[2000 rows x 21 columns]\n"
          ]
        }
      ]
    },
    {
      "cell_type": "code",
      "source": [
        "print(df.describe())"
      ],
      "metadata": {
        "colab": {
          "base_uri": "https://localhost:8080/"
        },
        "id": "u3FTBXytPi4m",
        "outputId": "8a8113a8-7510-4d54-e514-1f2a5981c191"
      },
      "execution_count": 18,
      "outputs": [
        {
          "output_type": "stream",
          "name": "stdout",
          "text": [
            "       battery_power       blue  clock_speed     dual_sim           fc  \\\n",
            "count    2000.000000  2000.0000  2000.000000  2000.000000  2000.000000   \n",
            "mean     1238.518500     0.4950     1.522250     0.509500     4.309500   \n",
            "std       439.418206     0.5001     0.816004     0.500035     4.341444   \n",
            "min       501.000000     0.0000     0.500000     0.000000     0.000000   \n",
            "25%       851.750000     0.0000     0.700000     0.000000     1.000000   \n",
            "50%      1226.000000     0.0000     1.500000     1.000000     3.000000   \n",
            "75%      1615.250000     1.0000     2.200000     1.000000     7.000000   \n",
            "max      1998.000000     1.0000     3.000000     1.000000    19.000000   \n",
            "\n",
            "            four_g   int_memory        m_dep    mobile_wt      n_cores  ...  \\\n",
            "count  2000.000000  2000.000000  2000.000000  2000.000000  2000.000000  ...   \n",
            "mean      0.521500    32.046500     0.501750   140.249000     4.520500  ...   \n",
            "std       0.499662    18.145715     0.288416    35.399655     2.287837  ...   \n",
            "min       0.000000     2.000000     0.100000    80.000000     1.000000  ...   \n",
            "25%       0.000000    16.000000     0.200000   109.000000     3.000000  ...   \n",
            "50%       1.000000    32.000000     0.500000   141.000000     4.000000  ...   \n",
            "75%       1.000000    48.000000     0.800000   170.000000     7.000000  ...   \n",
            "max       1.000000    64.000000     1.000000   200.000000     8.000000  ...   \n",
            "\n",
            "         px_height     px_width          ram         sc_h         sc_w  \\\n",
            "count  2000.000000  2000.000000  2000.000000  2000.000000  2000.000000   \n",
            "mean    645.108000  1251.515500  2124.213000    12.306500     5.767000   \n",
            "std     443.780811   432.199447  1084.732044     4.213245     4.356398   \n",
            "min       0.000000   500.000000   256.000000     5.000000     0.000000   \n",
            "25%     282.750000   874.750000  1207.500000     9.000000     2.000000   \n",
            "50%     564.000000  1247.000000  2146.500000    12.000000     5.000000   \n",
            "75%     947.250000  1633.000000  3064.500000    16.000000     9.000000   \n",
            "max    1960.000000  1998.000000  3998.000000    19.000000    18.000000   \n",
            "\n",
            "         talk_time      three_g  touch_screen         wifi  price_range  \n",
            "count  2000.000000  2000.000000   2000.000000  2000.000000  2000.000000  \n",
            "mean     11.011000     0.761500      0.503000     0.507000     1.500000  \n",
            "std       5.463955     0.426273      0.500116     0.500076     1.118314  \n",
            "min       2.000000     0.000000      0.000000     0.000000     0.000000  \n",
            "25%       6.000000     1.000000      0.000000     0.000000     0.750000  \n",
            "50%      11.000000     1.000000      1.000000     1.000000     1.500000  \n",
            "75%      16.000000     1.000000      1.000000     1.000000     2.250000  \n",
            "max      20.000000     1.000000      1.000000     1.000000     3.000000  \n",
            "\n",
            "[8 rows x 21 columns]\n"
          ]
        }
      ]
    },
    {
      "cell_type": "code",
      "source": [
        "y=df['price_range']"
      ],
      "metadata": {
        "id": "saA9SzvbP3uR"
      },
      "execution_count": 19,
      "outputs": []
    },
    {
      "cell_type": "code",
      "source": [
        "print(y)"
      ],
      "metadata": {
        "colab": {
          "base_uri": "https://localhost:8080/"
        },
        "id": "j1bu_lDXQN4D",
        "outputId": "cdd69e9a-6e59-4cf3-e9db-e5589bd88273"
      },
      "execution_count": 20,
      "outputs": [
        {
          "output_type": "stream",
          "name": "stdout",
          "text": [
            "0       1\n",
            "1       2\n",
            "2       2\n",
            "3       2\n",
            "4       1\n",
            "       ..\n",
            "1995    0\n",
            "1996    2\n",
            "1997    3\n",
            "1998    0\n",
            "1999    3\n",
            "Name: price_range, Length: 2000, dtype: int64\n"
          ]
        }
      ]
    },
    {
      "cell_type": "code",
      "source": [
        "x=df.drop('price_range',axis=1)"
      ],
      "metadata": {
        "id": "mbXM-JjmQPND"
      },
      "execution_count": 21,
      "outputs": []
    },
    {
      "cell_type": "code",
      "source": [
        "print(x)"
      ],
      "metadata": {
        "colab": {
          "base_uri": "https://localhost:8080/"
        },
        "id": "EaDSbrsDQV-p",
        "outputId": "630c66af-d16f-4833-f79d-e1e98a70b3b8"
      },
      "execution_count": 22,
      "outputs": [
        {
          "output_type": "stream",
          "name": "stdout",
          "text": [
            "      battery_power  blue  clock_speed  dual_sim  fc  four_g  int_memory  \\\n",
            "0               842     0          2.2         0   1       0           7   \n",
            "1              1021     1          0.5         1   0       1          53   \n",
            "2               563     1          0.5         1   2       1          41   \n",
            "3               615     1          2.5         0   0       0          10   \n",
            "4              1821     1          1.2         0  13       1          44   \n",
            "...             ...   ...          ...       ...  ..     ...         ...   \n",
            "1995            794     1          0.5         1   0       1           2   \n",
            "1996           1965     1          2.6         1   0       0          39   \n",
            "1997           1911     0          0.9         1   1       1          36   \n",
            "1998           1512     0          0.9         0   4       1          46   \n",
            "1999            510     1          2.0         1   5       1          45   \n",
            "\n",
            "      m_dep  mobile_wt  n_cores  pc  px_height  px_width   ram  sc_h  sc_w  \\\n",
            "0       0.6        188        2   2         20       756  2549     9     7   \n",
            "1       0.7        136        3   6        905      1988  2631    17     3   \n",
            "2       0.9        145        5   6       1263      1716  2603    11     2   \n",
            "3       0.8        131        6   9       1216      1786  2769    16     8   \n",
            "4       0.6        141        2  14       1208      1212  1411     8     2   \n",
            "...     ...        ...      ...  ..        ...       ...   ...   ...   ...   \n",
            "1995    0.8        106        6  14       1222      1890   668    13     4   \n",
            "1996    0.2        187        4   3        915      1965  2032    11    10   \n",
            "1997    0.7        108        8   3        868      1632  3057     9     1   \n",
            "1998    0.1        145        5   5        336       670   869    18    10   \n",
            "1999    0.9        168        6  16        483       754  3919    19     4   \n",
            "\n",
            "      talk_time  three_g  touch_screen  wifi  \n",
            "0            19        0             0     1  \n",
            "1             7        1             1     0  \n",
            "2             9        1             1     0  \n",
            "3            11        1             0     0  \n",
            "4            15        1             1     0  \n",
            "...         ...      ...           ...   ...  \n",
            "1995         19        1             1     0  \n",
            "1996         16        1             1     1  \n",
            "1997          5        1             1     0  \n",
            "1998         19        1             1     1  \n",
            "1999          2        1             1     1  \n",
            "\n",
            "[2000 rows x 20 columns]\n"
          ]
        }
      ]
    },
    {
      "cell_type": "code",
      "source": [
        "#b) Normalize the data with min-max scaling\n",
        "\n",
        "from sklearn.preprocessing import MinMaxScaler\n",
        "scaler = MinMaxScaler()\n",
        "X_train_scaled = scaler.fit_transform(x_train)\n",
        "X_test_scaled = scaler.transform(x_test)"
      ],
      "metadata": {
        "id": "X0MX57n8alkm"
      },
      "execution_count": 51,
      "outputs": []
    },
    {
      "cell_type": "code",
      "source": [
        "#c) Split the data into train and test\n",
        "\n",
        "from sklearn.model_selection import train_test_split"
      ],
      "metadata": {
        "id": "QZ1GKiRtQXHg"
      },
      "execution_count": 24,
      "outputs": []
    },
    {
      "cell_type": "code",
      "source": [
        "x_train,x_test,y_train,y_test=train_test_split(x,y,test_size=0.20,random_state=20)"
      ],
      "metadata": {
        "id": "L1wQRtRGQiJK"
      },
      "execution_count": 25,
      "outputs": []
    },
    {
      "cell_type": "code",
      "source": [
        "print(y_test)"
      ],
      "metadata": {
        "colab": {
          "base_uri": "https://localhost:8080/"
        },
        "id": "Fa_nZaOWQypy",
        "outputId": "f5756826-3f03-4d0d-88db-4cb50feb1c31"
      },
      "execution_count": 27,
      "outputs": [
        {
          "output_type": "stream",
          "name": "stdout",
          "text": [
            "1556    3\n",
            "1560    2\n",
            "1559    2\n",
            "1594    1\n",
            "906     3\n",
            "       ..\n",
            "959     3\n",
            "1939    2\n",
            "668     3\n",
            "534     2\n",
            "1111    3\n",
            "Name: price_range, Length: 400, dtype: int64\n"
          ]
        }
      ]
    },
    {
      "cell_type": "code",
      "source": [
        "from sklearn.linear_model import LogisticRegression"
      ],
      "metadata": {
        "id": "89-Nz6lAQ5qm"
      },
      "execution_count": 28,
      "outputs": []
    },
    {
      "cell_type": "code",
      "source": [
        "lg=LogisticRegression()"
      ],
      "metadata": {
        "id": "bXuSm3JOQ5uB"
      },
      "execution_count": 29,
      "outputs": []
    },
    {
      "cell_type": "code",
      "source": [
        "model=lg.fit(x_train,y_train)"
      ],
      "metadata": {
        "colab": {
          "base_uri": "https://localhost:8080/"
        },
        "id": "nCRexPfQRE2f",
        "outputId": "16e7017d-f574-40cb-dcb8-d50b23181baf"
      },
      "execution_count": 47,
      "outputs": [
        {
          "output_type": "stream",
          "name": "stderr",
          "text": [
            "/usr/local/lib/python3.10/dist-packages/sklearn/linear_model/_logistic.py:458: ConvergenceWarning: lbfgs failed to converge (status=1):\n",
            "STOP: TOTAL NO. of ITERATIONS REACHED LIMIT.\n",
            "\n",
            "Increase the number of iterations (max_iter) or scale the data as shown in:\n",
            "    https://scikit-learn.org/stable/modules/preprocessing.html\n",
            "Please also refer to the documentation for alternative solver options:\n",
            "    https://scikit-learn.org/stable/modules/linear_model.html#logistic-regression\n",
            "  n_iter_i = _check_optimize_result(\n"
          ]
        }
      ]
    },
    {
      "cell_type": "code",
      "source": [
        "#Question 2:\n",
        "\n",
        "from sklearn.metrics import accuracy_score,confusion_matrix,classification_report,precision_recall_fscore_support"
      ],
      "metadata": {
        "id": "cIMoAXqqRN1t"
      },
      "execution_count": 49,
      "outputs": []
    },
    {
      "cell_type": "code",
      "source": [
        "yp=model.predict(x_test)"
      ],
      "metadata": {
        "id": "TXLYcFviRN_u"
      },
      "execution_count": 34,
      "outputs": []
    },
    {
      "cell_type": "code",
      "source": [
        "print(accuracy_score(y_test,yp))"
      ],
      "metadata": {
        "colab": {
          "base_uri": "https://localhost:8080/"
        },
        "id": "7oFtFNDeROCh",
        "outputId": "09e4d09d-986d-49d3-a1cd-ab332750e8bd"
      },
      "execution_count": 35,
      "outputs": [
        {
          "output_type": "stream",
          "name": "stdout",
          "text": [
            "0.68\n"
          ]
        }
      ]
    },
    {
      "cell_type": "code",
      "source": [
        "print(confusion_matrix(yp,y_test))"
      ],
      "metadata": {
        "colab": {
          "base_uri": "https://localhost:8080/"
        },
        "id": "EDwM198qROF5",
        "outputId": "33a29362-d752-4657-dfaa-2bb6b5857f83"
      },
      "execution_count": 36,
      "outputs": [
        {
          "output_type": "stream",
          "name": "stdout",
          "text": [
            "[[76  9  0  0]\n",
            " [11 62 34  0]\n",
            " [ 1 22 50 16]\n",
            " [ 0  5 30 84]]\n"
          ]
        }
      ]
    },
    {
      "cell_type": "code",
      "source": [
        "print(classification_report(yp,y_test))"
      ],
      "metadata": {
        "colab": {
          "base_uri": "https://localhost:8080/"
        },
        "id": "-HU1dtxWRvX8",
        "outputId": "44668893-7b0c-49c3-f649-9775c4c734f1"
      },
      "execution_count": 38,
      "outputs": [
        {
          "output_type": "stream",
          "name": "stdout",
          "text": [
            "              precision    recall  f1-score   support\n",
            "\n",
            "           0       0.86      0.89      0.88        85\n",
            "           1       0.63      0.58      0.60       107\n",
            "           2       0.44      0.56      0.49        89\n",
            "           3       0.84      0.71      0.77       119\n",
            "\n",
            "    accuracy                           0.68       400\n",
            "   macro avg       0.69      0.69      0.69       400\n",
            "weighted avg       0.70      0.68      0.69       400\n",
            "\n"
          ]
        }
      ]
    },
    {
      "cell_type": "code",
      "source": [
        "print(precision_recall_fscore_support(yp,y_test))"
      ],
      "metadata": {
        "colab": {
          "base_uri": "https://localhost:8080/"
        },
        "id": "G-iiUZj6SABk",
        "outputId": "fbd7908d-90d0-4d30-b709-86d668f034c8"
      },
      "execution_count": 45,
      "outputs": [
        {
          "output_type": "stream",
          "name": "stdout",
          "text": [
            "(array([0.86363636, 0.63265306, 0.43859649, 0.84      ]), array([0.89411765, 0.57943925, 0.56179775, 0.70588235]), array([0.87861272, 0.60487805, 0.49261084, 0.76712329]), array([ 85, 107,  89, 119]))\n"
          ]
        }
      ]
    }
  ]
}