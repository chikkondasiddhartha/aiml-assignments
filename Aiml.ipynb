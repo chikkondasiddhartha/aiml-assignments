{
  "nbformat": 4,
  "nbformat_minor": 0,
  "metadata": {
    "colab": {
      "provenance": [],
      "toc_visible": true
    },
    "kernelspec": {
      "name": "python3",
      "display_name": "Python 3"
    },
    "language_info": {
      "name": "python"
    }
  },
  "cells": [
    {
      "cell_type": "code",
      "execution_count": 1,
      "metadata": {
        "colab": {
          "base_uri": "https://localhost:8080/"
        },
        "id": "xwQ7VmVKIAhw",
        "outputId": "ea117d57-f9a0-44e8-c188-f9b7de9f997f"
      },
      "outputs": [
        {
          "output_type": "stream",
          "name": "stdout",
          "text": [
            "Mounted at /content/drive\n"
          ]
        }
      ],
      "source": [
        "from google.colab import drive\n",
        "drive.mount('/content/drive')"
      ]
    },
    {
      "cell_type": "code",
      "source": [
        "#A\n",
        "\n",
        "import pandas as pd\n",
        "\n",
        "data = pd.read_csv('/content/drive/MyDrive/Colab Notebooks/housing.csv')\n",
        "description = data.describe()\n",
        "print(description)\n"
      ],
      "metadata": {
        "colab": {
          "base_uri": "https://localhost:8080/"
        },
        "id": "BfKSaym4I5gV",
        "outputId": "0f04a088-3644-4ce1-9726-6aeccb4f6b65"
      },
      "execution_count": 16,
      "outputs": [
        {
          "output_type": "stream",
          "name": "stdout",
          "text": [
            "          longitude      latitude  housing_median_age   total_rooms  \\\n",
            "count  20640.000000  20640.000000        20640.000000  20640.000000   \n",
            "mean    -119.569704     35.631861           28.639486   2635.763081   \n",
            "std        2.003532      2.135952           12.585558   2181.615252   \n",
            "min     -124.350000     32.540000            1.000000      2.000000   \n",
            "25%     -121.800000     33.930000           18.000000   1447.750000   \n",
            "50%     -118.490000     34.260000           29.000000   2127.000000   \n",
            "75%     -118.010000     37.710000           37.000000   3148.000000   \n",
            "max     -114.310000     41.950000           52.000000  39320.000000   \n",
            "\n",
            "       total_bedrooms    population    households  median_income  \\\n",
            "count    20433.000000  20640.000000  20640.000000   20640.000000   \n",
            "mean       537.870553   1425.476744    499.539680       3.870671   \n",
            "std        421.385070   1132.462122    382.329753       1.899822   \n",
            "min          1.000000      3.000000      1.000000       0.499900   \n",
            "25%        296.000000    787.000000    280.000000       2.563400   \n",
            "50%        435.000000   1166.000000    409.000000       3.534800   \n",
            "75%        647.000000   1725.000000    605.000000       4.743250   \n",
            "max       6445.000000  35682.000000   6082.000000      15.000100   \n",
            "\n",
            "       median_house_value  \n",
            "count        20640.000000  \n",
            "mean        206855.816909  \n",
            "std         115395.615874  \n",
            "min          14999.000000  \n",
            "25%         119600.000000  \n",
            "50%         179700.000000  \n",
            "75%         264725.000000  \n",
            "max         500001.000000  \n"
          ]
        }
      ]
    },
    {
      "cell_type": "code",
      "source": [
        "#B\n",
        "\n",
        "import pandas as pd\n",
        "\n",
        "data = pd.read_csv('/content/drive/MyDrive/Colab Notebooks/housing.csv')\n",
        "data_types = data.dtypes\n",
        "data_shape = data.shape\n",
        "print(\"Data types of each column:\")\n",
        "print(data_types)\n",
        "print(\"\\nShape of the DataFrame:\")\n",
        "print(data_shape)\n"
      ],
      "metadata": {
        "colab": {
          "base_uri": "https://localhost:8080/"
        },
        "id": "fq2iEbX-JWti",
        "outputId": "f305dfa7-77fa-4cb6-911d-4770059c1bfd"
      },
      "execution_count": 14,
      "outputs": [
        {
          "output_type": "stream",
          "name": "stdout",
          "text": [
            "Data types of each column:\n",
            "longitude             float64\n",
            "latitude              float64\n",
            "housing_median_age    float64\n",
            "total_rooms           float64\n",
            "total_bedrooms        float64\n",
            "population            float64\n",
            "households            float64\n",
            "median_income         float64\n",
            "median_house_value    float64\n",
            "ocean_proximity        object\n",
            "dtype: object\n",
            "\n",
            "Shape of the DataFrame:\n",
            "(20640, 10)\n"
          ]
        }
      ]
    },
    {
      "cell_type": "code",
      "source": [
        "#c\n",
        "\n",
        "import pandas as pd\n",
        "data = pd.read_csv('/content/drive/MyDrive/Colab Notebooks/housing.csv')\n",
        "null_values = data.isnull().sum()\n",
        "for column in data.columns:\n",
        "    if data[column].isnull().any():\n",
        "        if data[column].dtype == 'object':\n",
        "            data[column].fillna('0', inplace=True)\n",
        "        else:\n",
        "            data[column].fillna(data[column].mean(), inplace=True)\n",
        "\n",
        "null_values_after_fill = data.isnull().sum()\n",
        "\n",
        "print(\"Null values before filling:\")\n",
        "print(null_values)\n",
        "print(\"\\nNull values after filling:\")\n",
        "print(null_values_after_fill)\n"
      ],
      "metadata": {
        "colab": {
          "base_uri": "https://localhost:8080/"
        },
        "id": "dCpYE3qYJwrM",
        "outputId": "1aa7fecc-6c6d-406d-9807-f575f8dbefa8"
      },
      "execution_count": 13,
      "outputs": [
        {
          "output_type": "stream",
          "name": "stdout",
          "text": [
            "Null values before filling:\n",
            "longitude               0\n",
            "latitude                0\n",
            "housing_median_age      0\n",
            "total_rooms             0\n",
            "total_bedrooms        207\n",
            "population              0\n",
            "households              0\n",
            "median_income           0\n",
            "median_house_value      0\n",
            "ocean_proximity         0\n",
            "dtype: int64\n",
            "\n",
            "Null values after filling:\n",
            "longitude             0\n",
            "latitude              0\n",
            "housing_median_age    0\n",
            "total_rooms           0\n",
            "total_bedrooms        0\n",
            "population            0\n",
            "households            0\n",
            "median_income         0\n",
            "median_house_value    0\n",
            "ocean_proximity       0\n",
            "dtype: int64\n"
          ]
        }
      ]
    },
    {
      "cell_type": "code",
      "source": [
        "#D\n",
        "\n",
        "import pandas as pd\n",
        "data = pd.read_csv('/content/drive/MyDrive/Colab Notebooks/housing.csv')\n",
        "target_column = data.columns[-1]\n",
        "features = data.drop(columns=[target_column])\n",
        "target = data[target_column]\n",
        "print(\"Features:\")\n",
        "print(features.head())\n",
        "print(\"\\nTarget variable:\")\n",
        "print(target.head())\n"
      ],
      "metadata": {
        "colab": {
          "base_uri": "https://localhost:8080/"
        },
        "id": "7TfnUNHeKImi",
        "outputId": "fcf38fe4-364d-4446-a014-2053ff7f7a86"
      },
      "execution_count": 12,
      "outputs": [
        {
          "output_type": "stream",
          "name": "stdout",
          "text": [
            "Features:\n",
            "   longitude  latitude  housing_median_age  total_rooms  total_bedrooms  \\\n",
            "0    -122.23     37.88                41.0        880.0           129.0   \n",
            "1    -122.22     37.86                21.0       7099.0          1106.0   \n",
            "2    -122.24     37.85                52.0       1467.0           190.0   \n",
            "3    -122.25     37.85                52.0       1274.0           235.0   \n",
            "4    -122.25     37.85                52.0       1627.0           280.0   \n",
            "\n",
            "   population  households  median_income  median_house_value  \n",
            "0       322.0       126.0         8.3252            452600.0  \n",
            "1      2401.0      1138.0         8.3014            358500.0  \n",
            "2       496.0       177.0         7.2574            352100.0  \n",
            "3       558.0       219.0         5.6431            341300.0  \n",
            "4       565.0       259.0         3.8462            342200.0  \n",
            "\n",
            "Target variable:\n",
            "0    NEAR BAY\n",
            "1    NEAR BAY\n",
            "2    NEAR BAY\n",
            "3    NEAR BAY\n",
            "4    NEAR BAY\n",
            "Name: ocean_proximity, dtype: object\n"
          ]
        }
      ]
    },
    {
      "cell_type": "code",
      "source": [
        "y=data['median_house_value']\n",
        "x=data.drop('median_house_value',axis=1)\n",
        "#print(x)\n",
        "print(y)"
      ],
      "metadata": {
        "colab": {
          "base_uri": "https://localhost:8080/"
        },
        "id": "iYCT1a0BRtsD",
        "outputId": "e9500b4e-d912-49fc-8e07-f8869fe6b6bc"
      },
      "execution_count": 21,
      "outputs": [
        {
          "output_type": "stream",
          "name": "stdout",
          "text": [
            "0        452600.0\n",
            "1        358500.0\n",
            "2        352100.0\n",
            "3        341300.0\n",
            "4        342200.0\n",
            "           ...   \n",
            "20635     78100.0\n",
            "20636     77100.0\n",
            "20637     92300.0\n",
            "20638     84700.0\n",
            "20639     89400.0\n",
            "Name: median_house_value, Length: 20640, dtype: float64\n"
          ]
        }
      ]
    },
    {
      "cell_type": "code",
      "source": [
        "#E\n",
        "\n",
        "import pandas as pd\n",
        "from sklearn.model_selection import train_test_split\n",
        "data = pd.read_csv('/content/drive/MyDrive/Colab Notebooks/housing.csv')\n",
        "target_column = data.columns[-1]\n",
        "features = data.drop(columns=[target_column])\n",
        "target = data[target_column]\n",
        "X_train, X_test, y_train, y_test = train_test_split(features, target, test_size=0.2, random_state=42)\n",
        "\n",
        "print(\"Shape of X_train:\", X_train.shape)\n",
        "print(\"Shape of X_test:\", X_test.shape)\n",
        "print(\"Shape of y_train:\", y_train.shape)\n",
        "print(\"Shape of y_test:\", y_test.shape)\n"
      ],
      "metadata": {
        "colab": {
          "base_uri": "https://localhost:8080/"
        },
        "id": "Bh4rhT_GLsT5",
        "outputId": "580fb0ee-e7b3-4b87-fdc6-ba48367d2a20"
      },
      "execution_count": 11,
      "outputs": [
        {
          "output_type": "stream",
          "name": "stdout",
          "text": [
            "Shape of X_train: (16512, 9)\n",
            "Shape of X_test: (4128, 9)\n",
            "Shape of y_train: (16512,)\n",
            "Shape of y_test: (4128,)\n"
          ]
        }
      ]
    },
    {
      "cell_type": "code",
      "source": [
        "#F\n",
        "\n",
        "import pandas as pd\n",
        "from sklearn.preprocessing import MinMaxScaler\n",
        "\n",
        "data = pd.read_csv('/content/drive/MyDrive/Colab Notebooks/housing.csv')\n",
        "target_column = data.columns[-1]\n",
        "\n",
        "features = data.drop(columns=[target_column])\n",
        "\n",
        "target = data[target_column]\n",
        "\n",
        "scaler = MinMaxScaler()\n",
        "features_normalized = scaler.fit_transform(features)\n",
        "\n",
        "features_normalized_df = pd.DataFrame(features_normalized, columns=features.columns)\n",
        "\n",
        "print(\"Normalized Features:\")\n",
        "print(features_normalized_df.head())\n"
      ],
      "metadata": {
        "colab": {
          "base_uri": "https://localhost:8080/"
        },
        "id": "hQvfhTUxL7de",
        "outputId": "6747f207-2c00-4516-ac9a-f9d203924b24"
      },
      "execution_count": 10,
      "outputs": [
        {
          "output_type": "stream",
          "name": "stdout",
          "text": [
            "Normalized Features:\n",
            "   longitude  latitude  housing_median_age  total_rooms  total_bedrooms  \\\n",
            "0   0.211155  0.567481            0.784314     0.022331        0.019863   \n",
            "1   0.212151  0.565356            0.392157     0.180503        0.171477   \n",
            "2   0.210159  0.564293            1.000000     0.037260        0.029330   \n",
            "3   0.209163  0.564293            1.000000     0.032352        0.036313   \n",
            "4   0.209163  0.564293            1.000000     0.041330        0.043296   \n",
            "\n",
            "   population  households  median_income  median_house_value  \n",
            "0    0.008941    0.020556       0.539668            0.902266  \n",
            "1    0.067210    0.186976       0.538027            0.708247  \n",
            "2    0.013818    0.028943       0.466028            0.695051  \n",
            "3    0.015555    0.035849       0.354699            0.672783  \n",
            "4    0.015752    0.042427       0.230776            0.674638  \n"
          ]
        }
      ]
    },
    {
      "cell_type": "code",
      "source": [],
      "metadata": {
        "id": "zkF4kYQFPLyi"
      },
      "execution_count": 20,
      "outputs": []
    }
  ]
}